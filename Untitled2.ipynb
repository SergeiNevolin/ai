{
  "nbformat": 4,
  "nbformat_minor": 0,
  "metadata": {
    "colab": {
      "name": "Untitled2.ipynb",
      "provenance": [],
      "authorship_tag": "ABX9TyMPyoNs9WnlkHZAi/F5Zgef",
      "include_colab_link": true
    },
    "kernelspec": {
      "name": "python3",
      "display_name": "Python 3"
    },
    "language_info": {
      "name": "python"
    },
    "accelerator": "GPU"
  },
  "cells": [
    {
      "cell_type": "markdown",
      "metadata": {
        "id": "view-in-github",
        "colab_type": "text"
      },
      "source": [
        "<a href=\"https://colab.research.google.com/github/SergeiNevolin/ai/blob/main/Untitled2.ipynb\" target=\"_parent\"><img src=\"https://colab.research.google.com/assets/colab-badge.svg\" alt=\"Open In Colab\"/></a>"
      ]
    },
    {
      "cell_type": "code",
      "metadata": {
        "id": "1Z2JrNGPkYHr"
      },
      "source": [
        "import pandas as pd\n",
        "import numpy as np\n",
        "import matplotlib.pyplot as plt\n",
        "import seaborn as sns\n",
        "import sklearn\n",
        "import matplotlib.image as mpimg\n",
        "\n",
        "np.random.seed(2)\n",
        "\n",
        "from sklearn.model_selection import train_test_split\n",
        "from sklearn.metrics import confusion_matrix\n",
        "import itertools\n",
        "\n",
        "from keras.utils.np_utils import to_categorical # convert to one-hot-encoding\n",
        "from keras.models import Sequential\n",
        "from keras.layers import Dense, Dropout, Flatten, Conv2D, MaxPool2D\n",
        "#from keras.optimizers import RMSprop\n",
        "from tensorflow.keras.optimizers import RMSprop\n",
        "from keras.preprocessing.image import ImageDataGenerator\n",
        "from keras.callbacks import ReduceLROnPlateau\n",
        "\n",
        "\n",
        "sns.set(style='white', context='notebook', palette='deep')"
      ],
      "execution_count": 1,
      "outputs": []
    },
    {
      "cell_type": "code",
      "metadata": {
        "colab": {
          "base_uri": "https://localhost:8080/"
        },
        "id": "DCWg_WSplc4V",
        "outputId": "6cdc201f-cb08-4bc0-da9e-c1d0010c0597"
      },
      "source": [
        "from google.colab import drive\n",
        "drive.mount('/content/drive')"
      ],
      "execution_count": 2,
      "outputs": [
        {
          "output_type": "stream",
          "name": "stdout",
          "text": [
            "Mounted at /content/drive\n"
          ]
        }
      ]
    },
    {
      "cell_type": "code",
      "metadata": {
        "id": "M_bHpqnml89l"
      },
      "source": [
        "train = pd.read_csv(\"/content/drive/MyDrive/data/train.csv\")\n",
        "test = pd.read_csv(\"/content/drive/MyDrive/data/test.csv\")"
      ],
      "execution_count": 3,
      "outputs": []
    },
    {
      "cell_type": "code",
      "metadata": {
        "colab": {
          "base_uri": "https://localhost:8080/",
          "height": 299
        },
        "id": "lOjwrHPlc6XS",
        "outputId": "b65d493a-3695-43f0-a5b9-cb3f07b5c391"
      },
      "source": [
        "train.head()"
      ],
      "execution_count": 4,
      "outputs": [
        {
          "output_type": "execute_result",
          "data": {
            "text/plain": [
              "   label  pixel0  pixel1  pixel2  pixel3  pixel4  pixel5  pixel6  pixel7  \\\n",
              "0      1       0       0       0       0       0       0       0       0   \n",
              "1      0       0       0       0       0       0       0       0       0   \n",
              "2      1       0       0       0       0       0       0       0       0   \n",
              "3      4       0       0       0       0       0       0       0       0   \n",
              "4      0       0       0       0       0       0       0       0       0   \n",
              "\n",
              "   pixel8  ...  pixel774  pixel775  pixel776  pixel777  pixel778  pixel779  \\\n",
              "0       0  ...         0         0         0         0         0         0   \n",
              "1       0  ...         0         0         0         0         0         0   \n",
              "2       0  ...         0         0         0         0         0         0   \n",
              "3       0  ...         0         0         0         0         0         0   \n",
              "4       0  ...         0         0         0         0         0         0   \n",
              "\n",
              "   pixel780  pixel781  pixel782  pixel783  \n",
              "0         0         0         0         0  \n",
              "1         0         0         0         0  \n",
              "2         0         0         0         0  \n",
              "3         0         0         0         0  \n",
              "4         0         0         0         0  \n",
              "\n",
              "[5 rows x 785 columns]"
            ],
            "text/html": [
              "\n",
              "  <div id=\"df-d37652ed-40d9-4c2c-8872-e4e0b93a5930\">\n",
              "    <div class=\"colab-df-container\">\n",
              "      <div>\n",
              "<style scoped>\n",
              "    .dataframe tbody tr th:only-of-type {\n",
              "        vertical-align: middle;\n",
              "    }\n",
              "\n",
              "    .dataframe tbody tr th {\n",
              "        vertical-align: top;\n",
              "    }\n",
              "\n",
              "    .dataframe thead th {\n",
              "        text-align: right;\n",
              "    }\n",
              "</style>\n",
              "<table border=\"1\" class=\"dataframe\">\n",
              "  <thead>\n",
              "    <tr style=\"text-align: right;\">\n",
              "      <th></th>\n",
              "      <th>label</th>\n",
              "      <th>pixel0</th>\n",
              "      <th>pixel1</th>\n",
              "      <th>pixel2</th>\n",
              "      <th>pixel3</th>\n",
              "      <th>pixel4</th>\n",
              "      <th>pixel5</th>\n",
              "      <th>pixel6</th>\n",
              "      <th>pixel7</th>\n",
              "      <th>pixel8</th>\n",
              "      <th>...</th>\n",
              "      <th>pixel774</th>\n",
              "      <th>pixel775</th>\n",
              "      <th>pixel776</th>\n",
              "      <th>pixel777</th>\n",
              "      <th>pixel778</th>\n",
              "      <th>pixel779</th>\n",
              "      <th>pixel780</th>\n",
              "      <th>pixel781</th>\n",
              "      <th>pixel782</th>\n",
              "      <th>pixel783</th>\n",
              "    </tr>\n",
              "  </thead>\n",
              "  <tbody>\n",
              "    <tr>\n",
              "      <th>0</th>\n",
              "      <td>1</td>\n",
              "      <td>0</td>\n",
              "      <td>0</td>\n",
              "      <td>0</td>\n",
              "      <td>0</td>\n",
              "      <td>0</td>\n",
              "      <td>0</td>\n",
              "      <td>0</td>\n",
              "      <td>0</td>\n",
              "      <td>0</td>\n",
              "      <td>...</td>\n",
              "      <td>0</td>\n",
              "      <td>0</td>\n",
              "      <td>0</td>\n",
              "      <td>0</td>\n",
              "      <td>0</td>\n",
              "      <td>0</td>\n",
              "      <td>0</td>\n",
              "      <td>0</td>\n",
              "      <td>0</td>\n",
              "      <td>0</td>\n",
              "    </tr>\n",
              "    <tr>\n",
              "      <th>1</th>\n",
              "      <td>0</td>\n",
              "      <td>0</td>\n",
              "      <td>0</td>\n",
              "      <td>0</td>\n",
              "      <td>0</td>\n",
              "      <td>0</td>\n",
              "      <td>0</td>\n",
              "      <td>0</td>\n",
              "      <td>0</td>\n",
              "      <td>0</td>\n",
              "      <td>...</td>\n",
              "      <td>0</td>\n",
              "      <td>0</td>\n",
              "      <td>0</td>\n",
              "      <td>0</td>\n",
              "      <td>0</td>\n",
              "      <td>0</td>\n",
              "      <td>0</td>\n",
              "      <td>0</td>\n",
              "      <td>0</td>\n",
              "      <td>0</td>\n",
              "    </tr>\n",
              "    <tr>\n",
              "      <th>2</th>\n",
              "      <td>1</td>\n",
              "      <td>0</td>\n",
              "      <td>0</td>\n",
              "      <td>0</td>\n",
              "      <td>0</td>\n",
              "      <td>0</td>\n",
              "      <td>0</td>\n",
              "      <td>0</td>\n",
              "      <td>0</td>\n",
              "      <td>0</td>\n",
              "      <td>...</td>\n",
              "      <td>0</td>\n",
              "      <td>0</td>\n",
              "      <td>0</td>\n",
              "      <td>0</td>\n",
              "      <td>0</td>\n",
              "      <td>0</td>\n",
              "      <td>0</td>\n",
              "      <td>0</td>\n",
              "      <td>0</td>\n",
              "      <td>0</td>\n",
              "    </tr>\n",
              "    <tr>\n",
              "      <th>3</th>\n",
              "      <td>4</td>\n",
              "      <td>0</td>\n",
              "      <td>0</td>\n",
              "      <td>0</td>\n",
              "      <td>0</td>\n",
              "      <td>0</td>\n",
              "      <td>0</td>\n",
              "      <td>0</td>\n",
              "      <td>0</td>\n",
              "      <td>0</td>\n",
              "      <td>...</td>\n",
              "      <td>0</td>\n",
              "      <td>0</td>\n",
              "      <td>0</td>\n",
              "      <td>0</td>\n",
              "      <td>0</td>\n",
              "      <td>0</td>\n",
              "      <td>0</td>\n",
              "      <td>0</td>\n",
              "      <td>0</td>\n",
              "      <td>0</td>\n",
              "    </tr>\n",
              "    <tr>\n",
              "      <th>4</th>\n",
              "      <td>0</td>\n",
              "      <td>0</td>\n",
              "      <td>0</td>\n",
              "      <td>0</td>\n",
              "      <td>0</td>\n",
              "      <td>0</td>\n",
              "      <td>0</td>\n",
              "      <td>0</td>\n",
              "      <td>0</td>\n",
              "      <td>0</td>\n",
              "      <td>...</td>\n",
              "      <td>0</td>\n",
              "      <td>0</td>\n",
              "      <td>0</td>\n",
              "      <td>0</td>\n",
              "      <td>0</td>\n",
              "      <td>0</td>\n",
              "      <td>0</td>\n",
              "      <td>0</td>\n",
              "      <td>0</td>\n",
              "      <td>0</td>\n",
              "    </tr>\n",
              "  </tbody>\n",
              "</table>\n",
              "<p>5 rows × 785 columns</p>\n",
              "</div>\n",
              "      <button class=\"colab-df-convert\" onclick=\"convertToInteractive('df-d37652ed-40d9-4c2c-8872-e4e0b93a5930')\"\n",
              "              title=\"Convert this dataframe to an interactive table.\"\n",
              "              style=\"display:none;\">\n",
              "        \n",
              "  <svg xmlns=\"http://www.w3.org/2000/svg\" height=\"24px\"viewBox=\"0 0 24 24\"\n",
              "       width=\"24px\">\n",
              "    <path d=\"M0 0h24v24H0V0z\" fill=\"none\"/>\n",
              "    <path d=\"M18.56 5.44l.94 2.06.94-2.06 2.06-.94-2.06-.94-.94-2.06-.94 2.06-2.06.94zm-11 1L8.5 8.5l.94-2.06 2.06-.94-2.06-.94L8.5 2.5l-.94 2.06-2.06.94zm10 10l.94 2.06.94-2.06 2.06-.94-2.06-.94-.94-2.06-.94 2.06-2.06.94z\"/><path d=\"M17.41 7.96l-1.37-1.37c-.4-.4-.92-.59-1.43-.59-.52 0-1.04.2-1.43.59L10.3 9.45l-7.72 7.72c-.78.78-.78 2.05 0 2.83L4 21.41c.39.39.9.59 1.41.59.51 0 1.02-.2 1.41-.59l7.78-7.78 2.81-2.81c.8-.78.8-2.07 0-2.86zM5.41 20L4 18.59l7.72-7.72 1.47 1.35L5.41 20z\"/>\n",
              "  </svg>\n",
              "      </button>\n",
              "      \n",
              "  <style>\n",
              "    .colab-df-container {\n",
              "      display:flex;\n",
              "      flex-wrap:wrap;\n",
              "      gap: 12px;\n",
              "    }\n",
              "\n",
              "    .colab-df-convert {\n",
              "      background-color: #E8F0FE;\n",
              "      border: none;\n",
              "      border-radius: 50%;\n",
              "      cursor: pointer;\n",
              "      display: none;\n",
              "      fill: #1967D2;\n",
              "      height: 32px;\n",
              "      padding: 0 0 0 0;\n",
              "      width: 32px;\n",
              "    }\n",
              "\n",
              "    .colab-df-convert:hover {\n",
              "      background-color: #E2EBFA;\n",
              "      box-shadow: 0px 1px 2px rgba(60, 64, 67, 0.3), 0px 1px 3px 1px rgba(60, 64, 67, 0.15);\n",
              "      fill: #174EA6;\n",
              "    }\n",
              "\n",
              "    [theme=dark] .colab-df-convert {\n",
              "      background-color: #3B4455;\n",
              "      fill: #D2E3FC;\n",
              "    }\n",
              "\n",
              "    [theme=dark] .colab-df-convert:hover {\n",
              "      background-color: #434B5C;\n",
              "      box-shadow: 0px 1px 3px 1px rgba(0, 0, 0, 0.15);\n",
              "      filter: drop-shadow(0px 1px 2px rgba(0, 0, 0, 0.3));\n",
              "      fill: #FFFFFF;\n",
              "    }\n",
              "  </style>\n",
              "\n",
              "      <script>\n",
              "        const buttonEl =\n",
              "          document.querySelector('#df-d37652ed-40d9-4c2c-8872-e4e0b93a5930 button.colab-df-convert');\n",
              "        buttonEl.style.display =\n",
              "          google.colab.kernel.accessAllowed ? 'block' : 'none';\n",
              "\n",
              "        async function convertToInteractive(key) {\n",
              "          const element = document.querySelector('#df-d37652ed-40d9-4c2c-8872-e4e0b93a5930');\n",
              "          const dataTable =\n",
              "            await google.colab.kernel.invokeFunction('convertToInteractive',\n",
              "                                                     [key], {});\n",
              "          if (!dataTable) return;\n",
              "\n",
              "          const docLinkHtml = 'Like what you see? Visit the ' +\n",
              "            '<a target=\"_blank\" href=https://colab.research.google.com/notebooks/data_table.ipynb>data table notebook</a>'\n",
              "            + ' to learn more about interactive tables.';\n",
              "          element.innerHTML = '';\n",
              "          dataTable['output_type'] = 'display_data';\n",
              "          await google.colab.output.renderOutput(dataTable, element);\n",
              "          const docLink = document.createElement('div');\n",
              "          docLink.innerHTML = docLinkHtml;\n",
              "          element.appendChild(docLink);\n",
              "        }\n",
              "      </script>\n",
              "    </div>\n",
              "  </div>\n",
              "  "
            ]
          },
          "metadata": {},
          "execution_count": 4
        }
      ]
    },
    {
      "cell_type": "code",
      "metadata": {
        "colab": {
          "base_uri": "https://localhost:8080/",
          "height": 340
        },
        "id": "_dID2WUrfa83",
        "outputId": "fc06670f-37d9-46a5-8ca8-5e3d763b1536"
      },
      "source": [
        "Y_train = train[\"label\"]\n",
        "\n",
        "# Drop 'label' column\n",
        "X_train = train.drop(labels = [\"label\"],axis = 1) \n",
        "\n",
        "# free some space\n",
        "del train \n",
        "\n",
        "g = sns.countplot(Y_train)\n",
        "\n",
        "#Y_train.value_counts()"
      ],
      "execution_count": 5,
      "outputs": [
        {
          "output_type": "stream",
          "name": "stderr",
          "text": [
            "/usr/local/lib/python3.7/dist-packages/seaborn/_decorators.py:43: FutureWarning: Pass the following variable as a keyword arg: x. From version 0.12, the only valid positional argument will be `data`, and passing other arguments without an explicit keyword will result in an error or misinterpretation.\n",
            "  FutureWarning\n"
          ]
        },
        {
          "output_type": "display_data",
          "data": {
            "text/plain": [
              "<Figure size 432x288 with 1 Axes>"
            ],
            "image/png": "[encoded data removed]"
          },
          "metadata": {
            "needs_background": "light"
          }
        }
      ]
    },
    {
      "cell_type": "code",
      "metadata": {
        "id": "DhzP62RhfzsO"
      },
      "source": [
        "# Normalize the data\n",
        "X_train = X_train / 255.0\n",
        "test = test / 255.0"
      ],
      "execution_count": 6,
      "outputs": []
    },
    {
      "cell_type": "code",
      "metadata": {
        "id": "zED26DzEgsUp"
      },
      "source": [
        "X_train = X_train.values.reshape(-1,28,28,1)\n",
        "test = test.values.reshape(-1,28,28,1)"
      ],
      "execution_count": 7,
      "outputs": []
    },
    {
      "cell_type": "code",
      "metadata": {
        "id": "ah3dqiObj25K"
      },
      "source": [
        "Y_train = to_categorical(Y_train, num_classes = 10)"
      ],
      "execution_count": 8,
      "outputs": []
    },
    {
      "cell_type": "code",
      "metadata": {
        "id": "brdpM9pKkCy5"
      },
      "source": [
        "random_seed = 2"
      ],
      "execution_count": 9,
      "outputs": []
    },
    {
      "cell_type": "code",
      "metadata": {
        "id": "_tkV89pVkOMX"
      },
      "source": [
        "X_train, X_val, Y_train, Y_val = train_test_split(X_train, Y_train, test_size = 0.1, random_state=random_seed)"
      ],
      "execution_count": 10,
      "outputs": []
    },
    {
      "cell_type": "code",
      "metadata": {
        "colab": {
          "base_uri": "https://localhost:8080/",
          "height": 268
        },
        "id": "ssLeEQb8kR_o",
        "outputId": "9bf33089-6457-43f4-bcb6-c84e30b233a7"
      },
      "source": [
        "g = plt.imshow(X_train[6][:,:,0])"
      ],
      "execution_count": 11,
      "outputs": [
        {
          "output_type": "display_data",
          "data": {
            "text/plain": [
              "<Figure size 432x288 with 1 Axes>"
            ],
            "image/png": "[encoded data removed]"
          },
          "metadata": {
            "needs_background": "light"
          }
        }
      ]
    },
    {
      "cell_type": "code",
      "metadata": {
        "id": "GQ5IjJ0RmiRq"
      },
      "source": [
        "# Set the CNN model \n",
        "# my CNN architechture is In -> [[Conv2D->relu]*2 -> MaxPool2D -> Dropout]*2 -> Flatten -> Dense -> Dropout -> Out\n",
        "\n",
        "model = Sequential()\n",
        "\n",
        "model.add(Conv2D(filters = 32, kernel_size = (5,5),padding = 'Same', \n",
        "                 activation ='relu', input_shape = (28,28,1)))\n",
        "model.add(Conv2D(filters = 32, kernel_size = (5,5),padding = 'Same', \n",
        "                 activation ='relu'))\n",
        "model.add(MaxPool2D(pool_size=(2,2)))\n",
        "model.add(Dropout(0.25))\n",
        "\n",
        "\n",
        "model.add(Conv2D(filters = 64, kernel_size = (3,3),padding = 'Same', \n",
        "                 activation ='relu'))\n",
        "model.add(Conv2D(filters = 64, kernel_size = (3,3),padding = 'Same', \n",
        "                 activation ='relu'))\n",
        "model.add(MaxPool2D(pool_size=(2,2), strides=(2,2)))\n",
        "model.add(Dropout(0.25))\n",
        "\n",
        "\n",
        "model.add(Flatten())\n",
        "model.add(Dense(256, activation = \"relu\"))\n",
        "model.add(Dropout(0.5))\n",
        "model.add(Dense(10, activation = \"softmax\"))"
      ],
      "execution_count": 12,
      "outputs": []
    },
    {
      "cell_type": "code",
      "metadata": {
        "colab": {
          "base_uri": "https://localhost:8080/"
        },
        "id": "UTTZKkq5w1HD",
        "outputId": "8b76b153-9f45-4da3-cd24-ef22f122938c"
      },
      "source": [
        "optimizer = RMSprop(lr=0.001, rho=0.9, epsilon=1e-08, decay=0.0)\n",
        "model.compile(optimizer = optimizer , loss = \"categorical_crossentropy\", metrics=[\"accuracy\"])"
      ],
      "execution_count": 13,
      "outputs": [
        {
          "output_type": "stream",
          "name": "stderr",
          "text": [
            "/usr/local/lib/python3.7/dist-packages/keras/optimizer_v2/rmsprop.py:130: UserWarning: The `lr` argument is deprecated, use `learning_rate` instead.\n",
            "  super(RMSprop, self).__init__(name, **kwargs)\n"
          ]
        }
      ]
    },
    {
      "cell_type": "code",
      "metadata": {
        "id": "CVop2mekyfjh"
      },
      "source": [
        "# Set a learning rate annealer\n",
        "learning_rate_reduction = ReduceLROnPlateau(monitor='val_acc', \n",
        "                                            patience=3, \n",
        "                                            verbose=1, \n",
        "                                            factor=0.5, \n",
        "                                            min_lr=0.00001)"
      ],
      "execution_count": 14,
      "outputs": []
    },
    {
      "cell_type": "code",
      "metadata": {
        "id": "aXepIAnNy75u"
      },
      "source": [
        "epochs = 30 # Turn epochs to 30 to get 0.9967 accuracy\n",
        "batch_size = 86"
      ],
      "execution_count": 15,
      "outputs": []
    },
    {
      "cell_type": "code",
      "metadata": {
        "colab": {
          "base_uri": "https://localhost:8080/"
        },
        "id": "-LRtdcAVzCGh",
        "outputId": "44eed574-68af-4022-e6fa-bd52d19d8e70"
      },
      "source": [
        "history = model.fit(X_train, Y_train, batch_size = batch_size, epochs = epochs, \n",
        "          validation_data = (X_val, Y_val), verbose = 2)"
      ],
      "execution_count": 16,
      "outputs": [
        {
          "output_type": "stream",
          "name": "stdout",
          "text": [
            "Epoch 1/30\n",
            "440/440 - 18s - loss: 0.2379 - accuracy: 0.9251 - val_loss: 0.0806 - val_accuracy: 0.9740 - 18s/epoch - 41ms/step\n",
            "Epoch 2/30\n",
            "440/440 - 7s - loss: 0.0718 - accuracy: 0.9777 - val_loss: 0.0485 - val_accuracy: 0.9883 - 7s/epoch - 15ms/step\n",
            "Epoch 3/30\n",
            "440/440 - 7s - loss: 0.0546 - accuracy: 0.9831 - val_loss: 0.0342 - val_accuracy: 0.9905 - 7s/epoch - 16ms/step\n",
            "Epoch 4/30\n",
            "440/440 - 7s - loss: 0.0449 - accuracy: 0.9866 - val_loss: 0.0326 - val_accuracy: 0.9900 - 7s/epoch - 16ms/step\n",
            "Epoch 5/30\n",
            "440/440 - 7s - loss: 0.0404 - accuracy: 0.9881 - val_loss: 0.0335 - val_accuracy: 0.9888 - 7s/epoch - 15ms/step\n",
            "Epoch 6/30\n",
            "440/440 - 7s - loss: 0.0363 - accuracy: 0.9890 - val_loss: 0.0309 - val_accuracy: 0.9914 - 7s/epoch - 16ms/step\n",
            "Epoch 7/30\n",
            "440/440 - 7s - loss: 0.0337 - accuracy: 0.9901 - val_loss: 0.0428 - val_accuracy: 0.9907 - 7s/epoch - 16ms/step\n",
            "Epoch 8/30\n",
            "440/440 - 7s - loss: 0.0308 - accuracy: 0.9907 - val_loss: 0.0330 - val_accuracy: 0.9926 - 7s/epoch - 16ms/step\n",
            "Epoch 9/30\n",
            "440/440 - 7s - loss: 0.0281 - accuracy: 0.9914 - val_loss: 0.0378 - val_accuracy: 0.9921 - 7s/epoch - 16ms/step\n",
            "Epoch 10/30\n",
            "440/440 - 7s - loss: 0.0287 - accuracy: 0.9916 - val_loss: 0.0308 - val_accuracy: 0.9945 - 7s/epoch - 15ms/step\n",
            "Epoch 11/30\n",
            "440/440 - 7s - loss: 0.0293 - accuracy: 0.9919 - val_loss: 0.0285 - val_accuracy: 0.9940 - 7s/epoch - 16ms/step\n",
            "Epoch 12/30\n",
            "440/440 - 7s - loss: 0.0288 - accuracy: 0.9917 - val_loss: 0.0256 - val_accuracy: 0.9936 - 7s/epoch - 16ms/step\n",
            "Epoch 13/30\n",
            "440/440 - 7s - loss: 0.0286 - accuracy: 0.9922 - val_loss: 0.0284 - val_accuracy: 0.9914 - 7s/epoch - 16ms/step\n",
            "Epoch 14/30\n",
            "440/440 - 7s - loss: 0.0280 - accuracy: 0.9925 - val_loss: 0.0315 - val_accuracy: 0.9940 - 7s/epoch - 15ms/step\n",
            "Epoch 15/30\n",
            "440/440 - 7s - loss: 0.0261 - accuracy: 0.9924 - val_loss: 0.0402 - val_accuracy: 0.9914 - 7s/epoch - 15ms/step\n",
            "Epoch 16/30\n",
            "440/440 - 7s - loss: 0.0292 - accuracy: 0.9928 - val_loss: 0.0482 - val_accuracy: 0.9900 - 7s/epoch - 16ms/step\n",
            "Epoch 17/30\n",
            "440/440 - 7s - loss: 0.0261 - accuracy: 0.9925 - val_loss: 0.0345 - val_accuracy: 0.9933 - 7s/epoch - 16ms/step\n",
            "Epoch 18/30\n",
            "440/440 - 7s - loss: 0.0300 - accuracy: 0.9926 - val_loss: 0.0321 - val_accuracy: 0.9921 - 7s/epoch - 16ms/step\n",
            "Epoch 19/30\n",
            "440/440 - 7s - loss: 0.0280 - accuracy: 0.9924 - val_loss: 0.0387 - val_accuracy: 0.9919 - 7s/epoch - 16ms/step\n",
            "Epoch 20/30\n",
            "440/440 - 7s - loss: 0.0282 - accuracy: 0.9927 - val_loss: 0.0393 - val_accuracy: 0.9917 - 7s/epoch - 16ms/step\n",
            "Epoch 21/30\n",
            "440/440 - 7s - loss: 0.0287 - accuracy: 0.9922 - val_loss: 0.0353 - val_accuracy: 0.9921 - 7s/epoch - 16ms/step\n",
            "Epoch 22/30\n",
            "440/440 - 7s - loss: 0.0297 - accuracy: 0.9924 - val_loss: 0.0354 - val_accuracy: 0.9907 - 7s/epoch - 15ms/step\n",
            "Epoch 23/30\n",
            "440/440 - 7s - loss: 0.0291 - accuracy: 0.9922 - val_loss: 0.0309 - val_accuracy: 0.9914 - 7s/epoch - 15ms/step\n",
            "Epoch 24/30\n",
            "440/440 - 7s - loss: 0.0298 - accuracy: 0.9927 - val_loss: 0.0274 - val_accuracy: 0.9926 - 7s/epoch - 15ms/step\n",
            "Epoch 25/30\n",
            "440/440 - 7s - loss: 0.0294 - accuracy: 0.9929 - val_loss: 0.0326 - val_accuracy: 0.9919 - 7s/epoch - 16ms/step\n",
            "Epoch 26/30\n",
            "440/440 - 7s - loss: 0.0299 - accuracy: 0.9924 - val_loss: 0.0361 - val_accuracy: 0.9902 - 7s/epoch - 16ms/step\n",
            "Epoch 27/30\n",
            "440/440 - 7s - loss: 0.0331 - accuracy: 0.9921 - val_loss: 0.0371 - val_accuracy: 0.9921 - 7s/epoch - 16ms/step\n",
            "Epoch 28/30\n",
            "440/440 - 7s - loss: 0.0353 - accuracy: 0.9917 - val_loss: 0.0289 - val_accuracy: 0.9929 - 7s/epoch - 16ms/step\n",
            "Epoch 29/30\n",
            "440/440 - 7s - loss: 0.0339 - accuracy: 0.9917 - val_loss: 0.0314 - val_accuracy: 0.9919 - 7s/epoch - 16ms/step\n",
            "Epoch 30/30\n",
            "440/440 - 7s - loss: 0.0298 - accuracy: 0.9921 - val_loss: 0.0401 - val_accuracy: 0.9921 - 7s/epoch - 16ms/step\n"
          ]
        }
      ]
    },
    {
      "cell_type": "code",
      "metadata": {
        "id": "1Zde_Z5R2U98"
      },
      "source": [
        "# With data augmentation to prevent overfitting (accuracy 0.99286)\n",
        "\n",
        "datagen = ImageDataGenerator(\n",
        "        featurewise_center=False,  # set input mean to 0 over the dataset\n",
        "        samplewise_center=False,  # set each sample mean to 0\n",
        "        featurewise_std_normalization=False,  # divide inputs by std of the dataset\n",
        "        samplewise_std_normalization=False,  # divide each input by its std\n",
        "        zca_whitening=False,  # apply ZCA whitening\n",
        "        rotation_range=10,  # randomly rotate images in the range (degrees, 0 to 180)\n",
        "        zoom_range = 0.1, # Randomly zoom image \n",
        "        width_shift_range=0.1,  # randomly shift images horizontally (fraction of total width)\n",
        "        height_shift_range=0.1,  # randomly shift images vertically (fraction of total height)\n",
        "        horizontal_flip=False,  # randomly flip images\n",
        "        vertical_flip=False)  # randomly flip images\n",
        "\n",
        "\n",
        "datagen.fit(X_train)"
      ],
      "execution_count": 24,
      "outputs": []
    },
    {
      "cell_type": "code",
      "metadata": {
        "colab": {
          "base_uri": "https://localhost:8080/"
        },
        "id": "nLDm48o32Y4T",
        "outputId": "aefa254c-6f49-4828-ac60-5864d385c378"
      },
      "source": [
        "# Fit the model\n",
        "history = model.fit_generator(datagen.flow(X_train,Y_train, batch_size=batch_size),\n",
        "                              epochs = epochs, validation_data = (X_val,Y_val),\n",
        "                              verbose = 2, steps_per_epoch=X_train.shape[0] // batch_size\n",
        "                              , callbacks=[learning_rate_reduction])"
      ],
      "execution_count": 25,
      "outputs": [
        {
          "output_type": "stream",
          "name": "stdout",
          "text": [
            "Epoch 1/30\n"
          ]
        },
        {
          "output_type": "stream",
          "name": "stderr",
          "text": [
            "/usr/local/lib/python3.7/dist-packages/ipykernel_launcher.py:5: UserWarning: `Model.fit_generator` is deprecated and will be removed in a future version. Please use `Model.fit`, which supports generators.\n",
            "  \"\"\"\n"
          ]
        },
        {
          "output_type": "stream",
          "name": "stdout",
          "text": [
            "WARNING:tensorflow:Learning rate reduction is conditioned on metric `val_acc` which is not available. Available metrics are: loss,accuracy,val_loss,val_accuracy,lr\n",
            "439/439 - 18s - loss: 0.1817 - accuracy: 0.9549 - val_loss: 0.0452 - val_accuracy: 0.9898 - lr: 0.0010 - 18s/epoch - 40ms/step\n",
            "Epoch 2/30\n",
            "WARNING:tensorflow:Learning rate reduction is conditioned on metric `val_acc` which is not available. Available metrics are: loss,accuracy,val_loss,val_accuracy,lr\n",
            "439/439 - 18s - loss: 0.1214 - accuracy: 0.9671 - val_loss: 0.0394 - val_accuracy: 0.9914 - lr: 0.0010 - 18s/epoch - 41ms/step\n",
            "Epoch 3/30\n",
            "WARNING:tensorflow:Learning rate reduction is conditioned on metric `val_acc` which is not available. Available metrics are: loss,accuracy,val_loss,val_accuracy,lr\n",
            "439/439 - 18s - loss: 0.1112 - accuracy: 0.9722 - val_loss: 0.0411 - val_accuracy: 0.9895 - lr: 0.0010 - 18s/epoch - 40ms/step\n",
            "Epoch 4/30\n",
            "WARNING:tensorflow:Learning rate reduction is conditioned on metric `val_acc` which is not available. Available metrics are: loss,accuracy,val_loss,val_accuracy,lr\n",
            "439/439 - 18s - loss: 0.1064 - accuracy: 0.9733 - val_loss: 0.1475 - val_accuracy: 0.9798 - lr: 0.0010 - 18s/epoch - 40ms/step\n",
            "Epoch 5/30\n",
            "WARNING:tensorflow:Learning rate reduction is conditioned on metric `val_acc` which is not available. Available metrics are: loss,accuracy,val_loss,val_accuracy,lr\n",
            "439/439 - 17s - loss: 0.1017 - accuracy: 0.9741 - val_loss: 0.0345 - val_accuracy: 0.9914 - lr: 0.0010 - 17s/epoch - 38ms/step\n",
            "Epoch 6/30\n",
            "WARNING:tensorflow:Learning rate reduction is conditioned on metric `val_acc` which is not available. Available metrics are: loss,accuracy,val_loss,val_accuracy,lr\n",
            "439/439 - 18s - loss: 0.1046 - accuracy: 0.9732 - val_loss: 0.0535 - val_accuracy: 0.9883 - lr: 0.0010 - 18s/epoch - 40ms/step\n",
            "Epoch 7/30\n",
            "WARNING:tensorflow:Learning rate reduction is conditioned on metric `val_acc` which is not available. Available metrics are: loss,accuracy,val_loss,val_accuracy,lr\n",
            "439/439 - 17s - loss: 0.0974 - accuracy: 0.9746 - val_loss: 0.0385 - val_accuracy: 0.9914 - lr: 0.0010 - 17s/epoch - 38ms/step\n",
            "Epoch 8/30\n",
            "WARNING:tensorflow:Learning rate reduction is conditioned on metric `val_acc` which is not available. Available metrics are: loss,accuracy,val_loss,val_accuracy,lr\n",
            "439/439 - 17s - loss: 0.1005 - accuracy: 0.9753 - val_loss: 0.0376 - val_accuracy: 0.9914 - lr: 0.0010 - 17s/epoch - 39ms/step\n",
            "Epoch 9/30\n",
            "WARNING:tensorflow:Learning rate reduction is conditioned on metric `val_acc` which is not available. Available metrics are: loss,accuracy,val_loss,val_accuracy,lr\n",
            "439/439 - 17s - loss: 0.0986 - accuracy: 0.9738 - val_loss: 0.0579 - val_accuracy: 0.9890 - lr: 0.0010 - 17s/epoch - 38ms/step\n",
            "Epoch 10/30\n",
            "WARNING:tensorflow:Learning rate reduction is conditioned on metric `val_acc` which is not available. Available metrics are: loss,accuracy,val_loss,val_accuracy,lr\n",
            "439/439 - 17s - loss: 0.0910 - accuracy: 0.9769 - val_loss: 0.0681 - val_accuracy: 0.9898 - lr: 0.0010 - 17s/epoch - 38ms/step\n",
            "Epoch 11/30\n",
            "WARNING:tensorflow:Learning rate reduction is conditioned on metric `val_acc` which is not available. Available metrics are: loss,accuracy,val_loss,val_accuracy,lr\n",
            "439/439 - 17s - loss: 0.0987 - accuracy: 0.9765 - val_loss: 0.0422 - val_accuracy: 0.9921 - lr: 0.0010 - 17s/epoch - 38ms/step\n",
            "Epoch 12/30\n",
            "WARNING:tensorflow:Learning rate reduction is conditioned on metric `val_acc` which is not available. Available metrics are: loss,accuracy,val_loss,val_accuracy,lr\n",
            "439/439 - 17s - loss: 0.0963 - accuracy: 0.9757 - val_loss: 0.0886 - val_accuracy: 0.9893 - lr: 0.0010 - 17s/epoch - 39ms/step\n",
            "Epoch 13/30\n",
            "WARNING:tensorflow:Learning rate reduction is conditioned on metric `val_acc` which is not available. Available metrics are: loss,accuracy,val_loss,val_accuracy,lr\n",
            "439/439 - 17s - loss: 0.1006 - accuracy: 0.9755 - val_loss: 0.0374 - val_accuracy: 0.9914 - lr: 0.0010 - 17s/epoch - 38ms/step\n",
            "Epoch 14/30\n",
            "WARNING:tensorflow:Learning rate reduction is conditioned on metric `val_acc` which is not available. Available metrics are: loss,accuracy,val_loss,val_accuracy,lr\n",
            "439/439 - 17s - loss: 0.1014 - accuracy: 0.9757 - val_loss: 0.0400 - val_accuracy: 0.9919 - lr: 0.0010 - 17s/epoch - 38ms/step\n",
            "Epoch 15/30\n",
            "WARNING:tensorflow:Learning rate reduction is conditioned on metric `val_acc` which is not available. Available metrics are: loss,accuracy,val_loss,val_accuracy,lr\n",
            "439/439 - 17s - loss: 0.0988 - accuracy: 0.9755 - val_loss: 0.0346 - val_accuracy: 0.9910 - lr: 0.0010 - 17s/epoch - 38ms/step\n",
            "Epoch 16/30\n",
            "WARNING:tensorflow:Learning rate reduction is conditioned on metric `val_acc` which is not available. Available metrics are: loss,accuracy,val_loss,val_accuracy,lr\n",
            "439/439 - 17s - loss: 0.0979 - accuracy: 0.9753 - val_loss: 0.0311 - val_accuracy: 0.9919 - lr: 0.0010 - 17s/epoch - 38ms/step\n",
            "Epoch 17/30\n",
            "WARNING:tensorflow:Learning rate reduction is conditioned on metric `val_acc` which is not available. Available metrics are: loss,accuracy,val_loss,val_accuracy,lr\n",
            "439/439 - 17s - loss: 0.1032 - accuracy: 0.9753 - val_loss: 0.0350 - val_accuracy: 0.9910 - lr: 0.0010 - 17s/epoch - 38ms/step\n",
            "Epoch 18/30\n",
            "WARNING:tensorflow:Learning rate reduction is conditioned on metric `val_acc` which is not available. Available metrics are: loss,accuracy,val_loss,val_accuracy,lr\n",
            "439/439 - 17s - loss: 0.1002 - accuracy: 0.9767 - val_loss: 0.0370 - val_accuracy: 0.9893 - lr: 0.0010 - 17s/epoch - 38ms/step\n",
            "Epoch 19/30\n",
            "WARNING:tensorflow:Learning rate reduction is conditioned on metric `val_acc` which is not available. Available metrics are: loss,accuracy,val_loss,val_accuracy,lr\n",
            "439/439 - 17s - loss: 0.0986 - accuracy: 0.9758 - val_loss: 0.0736 - val_accuracy: 0.9902 - lr: 0.0010 - 17s/epoch - 38ms/step\n",
            "Epoch 20/30\n",
            "WARNING:tensorflow:Learning rate reduction is conditioned on metric `val_acc` which is not available. Available metrics are: loss,accuracy,val_loss,val_accuracy,lr\n",
            "439/439 - 17s - loss: 0.1069 - accuracy: 0.9751 - val_loss: 0.0343 - val_accuracy: 0.9898 - lr: 0.0010 - 17s/epoch - 38ms/step\n",
            "Epoch 21/30\n",
            "WARNING:tensorflow:Learning rate reduction is conditioned on metric `val_acc` which is not available. Available metrics are: loss,accuracy,val_loss,val_accuracy,lr\n",
            "439/439 - 17s - loss: 0.1183 - accuracy: 0.9743 - val_loss: 0.0398 - val_accuracy: 0.9910 - lr: 0.0010 - 17s/epoch - 39ms/step\n",
            "Epoch 22/30\n",
            "WARNING:tensorflow:Learning rate reduction is conditioned on metric `val_acc` which is not available. Available metrics are: loss,accuracy,val_loss,val_accuracy,lr\n",
            "439/439 - 17s - loss: 0.1098 - accuracy: 0.9747 - val_loss: 0.0555 - val_accuracy: 0.9898 - lr: 0.0010 - 17s/epoch - 39ms/step\n",
            "Epoch 23/30\n",
            "WARNING:tensorflow:Learning rate reduction is conditioned on metric `val_acc` which is not available. Available metrics are: loss,accuracy,val_loss,val_accuracy,lr\n",
            "439/439 - 17s - loss: 0.1119 - accuracy: 0.9738 - val_loss: 0.0437 - val_accuracy: 0.9926 - lr: 0.0010 - 17s/epoch - 38ms/step\n",
            "Epoch 24/30\n",
            "WARNING:tensorflow:Learning rate reduction is conditioned on metric `val_acc` which is not available. Available metrics are: loss,accuracy,val_loss,val_accuracy,lr\n",
            "439/439 - 17s - loss: 0.1087 - accuracy: 0.9737 - val_loss: 0.1750 - val_accuracy: 0.9850 - lr: 0.0010 - 17s/epoch - 40ms/step\n",
            "Epoch 25/30\n",
            "WARNING:tensorflow:Learning rate reduction is conditioned on metric `val_acc` which is not available. Available metrics are: loss,accuracy,val_loss,val_accuracy,lr\n",
            "439/439 - 17s - loss: 0.1125 - accuracy: 0.9744 - val_loss: 0.0726 - val_accuracy: 0.9833 - lr: 0.0010 - 17s/epoch - 39ms/step\n",
            "Epoch 26/30\n",
            "WARNING:tensorflow:Learning rate reduction is conditioned on metric `val_acc` which is not available. Available metrics are: loss,accuracy,val_loss,val_accuracy,lr\n",
            "439/439 - 17s - loss: 0.1129 - accuracy: 0.9751 - val_loss: 0.0972 - val_accuracy: 0.9871 - lr: 0.0010 - 17s/epoch - 40ms/step\n",
            "Epoch 27/30\n",
            "WARNING:tensorflow:Learning rate reduction is conditioned on metric `val_acc` which is not available. Available metrics are: loss,accuracy,val_loss,val_accuracy,lr\n",
            "439/439 - 17s - loss: 0.1202 - accuracy: 0.9723 - val_loss: 0.2157 - val_accuracy: 0.9869 - lr: 0.0010 - 17s/epoch - 38ms/step\n",
            "Epoch 28/30\n",
            "WARNING:tensorflow:Learning rate reduction is conditioned on metric `val_acc` which is not available. Available metrics are: loss,accuracy,val_loss,val_accuracy,lr\n",
            "439/439 - 17s - loss: 0.1107 - accuracy: 0.9741 - val_loss: 0.0603 - val_accuracy: 0.9886 - lr: 0.0010 - 17s/epoch - 38ms/step\n",
            "Epoch 29/30\n",
            "WARNING:tensorflow:Learning rate reduction is conditioned on metric `val_acc` which is not available. Available metrics are: loss,accuracy,val_loss,val_accuracy,lr\n",
            "439/439 - 17s - loss: 0.1228 - accuracy: 0.9726 - val_loss: 0.0811 - val_accuracy: 0.9852 - lr: 0.0010 - 17s/epoch - 38ms/step\n",
            "Epoch 30/30\n",
            "WARNING:tensorflow:Learning rate reduction is conditioned on metric `val_acc` which is not available. Available metrics are: loss,accuracy,val_loss,val_accuracy,lr\n",
            "439/439 - 17s - loss: 0.1185 - accuracy: 0.9744 - val_loss: 0.0536 - val_accuracy: 0.9910 - lr: 0.0010 - 17s/epoch - 38ms/step\n"
          ]
        }
      ]
    },
    {
      "cell_type": "code",
      "metadata": {
        "id": "ShRQfe8jDNyt"
      },
      "source": [
        "results = model.predict(test)\n",
        "\n",
        "# select the indix with the maximum probability\n",
        "results = np.argmax(results,axis = 1)\n",
        "\n",
        "results = pd.Series(results,name=\"Label\")"
      ],
      "execution_count": 26,
      "outputs": []
    },
    {
      "cell_type": "code",
      "metadata": {
        "id": "l_RHJPdKMrXS"
      },
      "source": [
        "model.save('emnist_nums.h5')"
      ],
      "execution_count": 27,
      "outputs": []
    },
    {
      "cell_type": "code",
      "metadata": {
        "id": "y6A9fq5KDYy6"
      },
      "source": [
        "submission = pd.concat([pd.Series(range(1,28001),name = \"ImageId\"),results],axis = 1)\n",
        "\n",
        "submission.to_csv(\"cnn_mnist_datagen.csv\",index=False)"
      ],
      "execution_count": 28,
      "outputs": []
    }
  ]
}